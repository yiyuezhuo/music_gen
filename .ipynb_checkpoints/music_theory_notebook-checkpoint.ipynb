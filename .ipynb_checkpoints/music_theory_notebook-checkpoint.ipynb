{
 "cells": [
  {
   "cell_type": "markdown",
   "metadata": {},
   "source": [
    "# 乐理笔记本\n",
    "\n",
    "## 乐音体系\n",
    "\n",
    "### 八度\n",
    "\n",
    "所谓do ri mi fa suo la xi... 一般被编码为C D E F G B A.这8个音称为一个八度。存在数个八度，它们听起来类似但又有所不同。不同的正是它们的音高，这时一个相同name的音可以称之为比另一个音高一个八度。加入这种octave的乐音体系可以使用类似C4的记法，表示从大字一向右数第四个八度里的C音，这个音经常用来定位，由于是钢琴正中间的音还称为中央C。还有一种包括小字开头的麻烦记法，因为在计算机记录麻烦在这里就被抛弃了。\n",
    "\n",
    "### 十二平均律\n",
    "\n",
    "一个八度音域(频率域)可以用等比数列分成十二个音，八度的八个音对应十二个音里的八个音。那为什么不直接用十二音呢？因为八度体系提出的比十二平均律早，实际之前的划分方式实际也不是精确的十二平均律的方式，只是大概在那个地方（用一种基于等分的方法）。而且丢掉的4个音实际也不常用，所以就这样了。\n",
    "\n",
    "我们使用下述代码显示一个大概八度内（A4-A5）音的频率与12个音的关系"
   ]
  },
  {
   "cell_type": "code",
   "execution_count": 1,
   "metadata": {
    "collapsed": true
   },
   "outputs": [],
   "source": [
    "import numpy as np\n",
    "import matplotlib.pyplot as plt\n",
    "%matplotlib inline\n",
    "\n",
    "from music21 import environment,corpus,note\n",
    "\n",
    "exe_path=\"C:\\\\Program Files (x86)\\\\MuseScore 2\\\\bin\\\\MuseScore.exe\"\n",
    "\n",
    "environment.set(\"musescoreDirectPNGPath\",exe_path)\n",
    "environment.set(\"musicxmlPath\",exe_path)\n",
    "#一般windows上musescores配置有问题，需要手动指定修复"
   ]
  },
  {
   "cell_type": "code",
   "execution_count": 35,
   "metadata": {
    "collapsed": false
   },
   "outputs": [
    {
     "data": {
      "image/png": "[encoded data removed]",
      "text/plain": [
       "<matplotlib.figure.Figure at 0x1d56fdd8>"
      ]
     },
     "metadata": {},
     "output_type": "display_data"
    }
   ],
   "source": [
    "step=['A4','B4','C5','D5','E5','F5','G5','A5']\n",
    "fl=[note.Note(s).pitch.frequency for s in step]\n",
    "ml=[0,2,3,5,7,8,10,12]\n",
    "\n",
    "plt.plot(ml,fl,'o')\n",
    "plt.plot(range(0,13),np.logspace(1,2,13,base=2)*220)\n",
    "plt.xticks(ml,step)\n",
    "plt.xlabel('note')\n",
    "plt.ylabel(\"frequency\")\n",
    "plt.show()"
   ]
  },
  {
   "cell_type": "markdown",
   "metadata": {},
   "source": [
    "可以看到8个音里有的离得远有的离得近，这两种距离分别称为差一个全音与差一个半音。为了使用遗失的4个音，可以使用升半音符号 `#` 或降半音符号 `b` 来取得。当然一般这两个符号和谱号一起在小节开头起确定基音的作用。（五线谱上相同音符号的序列随基音不同表示不同的音符序列，未做说明谱号是高音谱号且没有升降修正）。五线谱十分脑残的一点是它相同的“距离”表示的音程是不一样的，有的是全音有的是半音，因为它是直接从八度建立的体系，这时你应该比照八度而不是十二平均律来看五线谱，然后又用十二平均律来取到具体的音（加上谱号和升降号的修正），简直无妄之灾。"
   ]
  },
  {
   "cell_type": "code",
   "execution_count": 29,
   "metadata": {
    "collapsed": false
   },
   "outputs": [
    {
     "name": "stdout",
     "output_type": "stream",
     "text": [
      "下面的B-2即Bb\n",
      "B-2的名 B-\n",
      "B-2的12平均律位置（一个八度内） 10\n",
      "B-2的八度位置（以大字一开头数个八度内的哪个） 2\n",
      "B-2的变调符号的值(从标准B降了一个半音) -1.0\n"
     ]
    }
   ],
   "source": [
    "#升降调符号 升调 # sharp 降调 b flat，但在music21中使用-表示降调。那尼玛就不能用+表示升调吗\n",
    "bflat=note.Note('B-2')\n",
    "print '下面的B-2即Bb'\n",
    "print 'B-2的名',bflat.pitch.name\n",
    "print 'B-2的12平均律位置（一个八度内）',bflat.pitch.pitchClass\n",
    "print 'B-2的八度位置（以大字一开头数个八度内的哪个）',bflat.pitch.octave\n",
    "print 'B-2的变调符号的值(从标准B降了一个半音)',bflat.pitch.accidental.alter"
   ]
  },
  {
   "cell_type": "code",
   "execution_count": 34,
   "metadata": {
    "collapsed": false,
    "scrolled": true
   },
   "outputs": [
    {
     "name": "stdout",
     "output_type": "stream",
     "text": [
      "D3 名 D\n",
      "D3 12平均律位置 2\n",
      "D3 八度位置 3\n"
     ]
    }
   ],
   "source": [
    "#从bflat变调到D3,通过施加一个大三度。\n",
    "d=bflat.transpose(\"M3\")\n",
    "print 'D3 名',d.pitch.name\n",
    "print 'D3 12平均律位置',d.pitch.pitchClass\n",
    "print 'D3 八度位置',d.pitch.octave"
   ]
  },
  {
   "cell_type": "markdown",
   "metadata": {},
   "source": [
    "为什么加一个大三度就从B-2变成了D3呢？因为大三度是指音程是两个全音距离，即4个半音（12平均律单位距离）距离。\n",
    "于是B- -> 2-10 -> 2-11 -> 3-0 3-1 -> 3-2 -> D3"
   ]
  },
  {
   "cell_type": "code",
   "execution_count": 36,
   "metadata": {
    "collapsed": false
   },
   "outputs": [
    {
     "data": {
      "image/png": "[encoded data removed]",
      "text/plain": [
       "<music21.ipython21.objects.IPythonPNGObject at 0x1d8ad2e8>"
      ]
     },
     "execution_count": 36,
     "metadata": {},
     "output_type": "execute_result"
    }
   ],
   "source": [
    "bflat.show()"
   ]
  },
  {
   "cell_type": "code",
   "execution_count": null,
   "metadata": {
    "collapsed": true
   },
   "outputs": [],
   "source": []
  }
 ],
 "metadata": {
  "kernelspec": {
   "display_name": "Python 2",
   "language": "python",
   "name": "python2"
  },
  "language_info": {
   "codemirror_mode": {
    "name": "ipython",
    "version": 2
   },
   "file_extension": ".py",
   "mimetype": "text/x-python",
   "name": "python",
   "nbconvert_exporter": "python",
   "pygments_lexer": "ipython2",
   "version": "2.7.11"
  }
 },
 "nbformat": 4,
 "nbformat_minor": 0
}
