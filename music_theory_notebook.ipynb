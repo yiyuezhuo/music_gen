{
 "cells": [
  {
   "cell_type": "markdown",
   "metadata": {},
   "source": [
    "# 乐理笔记本\n",
    "\n",
    "## 乐音体系\n",
    "\n",
    "### 八度\n",
    "\n",
    "所谓do ri mi fa suo la xi... 一般被编码为C D E F G B A.这8个音称为一个八度。存在数个八度，它们听起来类似但又有所不同。不同的正是它们的音高，这时一个相同name的音可以称之为比另一个音高一个八度。加入这种octave的乐音体系可以使用类似C4的记法，表示从大字一向右数第四个八度里的C音，这个音经常用来定位，由于是钢琴正中间的音还称为中央C。还有一种包括小字开头的麻烦记法，因为在计算机记录麻烦在这里就被抛弃了。\n",
    "\n",
    "### 十二平均律\n",
    "\n",
    "一个八度音域(频率域)可以用等比数列分成十二个音，八度的八个音对应十二个音里的八个音。那为什么不直接用十二音呢？因为八度体系提出的比十二平均律早，实际之前的划分方式实际也不是精确的十二平均律的方式，只是大概在那个地方（用一种基于等分的方法）。而且丢掉的4个音实际也不常用，所以就这样了。\n",
    "\n",
    "我们使用下述代码显示一个大概八度内（A4-A5）音的频率与12个音的关系"
   ]
  },
  {
   "cell_type": "code",
   "execution_count": 1,
   "metadata": {
    "collapsed": true
   },
   "outputs": [],
   "source": [
    "import numpy as np\n",
    "import matplotlib.pyplot as plt\n",
    "%matplotlib inline\n",
    "\n",
    "from music21 import environment,corpus,note\n",
    "\n",
    "exe_path=\"C:\\\\Program Files (x86)\\\\MuseScore 2\\\\bin\\\\MuseScore.exe\"\n",
    "\n",
    "environment.set(\"musescoreDirectPNGPath\",exe_path)\n",
    "environment.set(\"musicxmlPath\",exe_path)\n",
    "#一般windows上musescores配置有问题，需要手动指定修复"
   ]
  },
  {
   "cell_type": "code",
   "execution_count": 2,
   "metadata": {
    "collapsed": false
   },
   "outputs": [
    {
     "data": {
      "image/png": "[encoded data removed]",
      "text/plain": [
       "<matplotlib.figure.Figure at 0x16900630>"
      ]
     },
     "metadata": {},
     "output_type": "display_data"
    }
   ],
   "source": [
    "step=['A4','B4','C5','D5','E5','F5','G5','A5']\n",
    "fl=[note.Note(s).pitch.frequency for s in step]\n",
    "ml=[0,2,3,5,7,8,10,12]\n",
    "\n",
    "plt.plot(ml,fl,'o')\n",
    "plt.plot(range(0,13),np.logspace(1,2,13,base=2)*220)\n",
    "plt.xticks(ml,step)\n",
    "plt.xlabel('note')\n",
    "plt.ylabel(\"frequency\")\n",
    "plt.show()"
   ]
  },
  {
   "cell_type": "markdown",
   "metadata": {},
   "source": [
    "可以看到8个音里有的离得远有的离得近，这两种距离分别称为差一个全音与差一个半音。为了使用遗失的4个音，可以使用升半音符号 `#` 或降半音符号 `b` 来取得。当然一般这两个符号和谱号一起在小节开头起确定基音的作用。（五线谱上相同音符号的序列随基音不同表示不同的音符序列，未做说明谱号是高音谱号且没有升降修正）。五线谱十分脑残的一点是它相同的“距离”表示的音程是不一样的，有的是全音有的是半音，因为它是直接从八度建立的体系，这时你应该比照八度而不是十二平均律来看五线谱，然后又用十二平均律来取到具体的音（加上谱号和升降号的修正），简直无妄之灾。"
   ]
  },
  {
   "cell_type": "code",
   "execution_count": 3,
   "metadata": {
    "collapsed": false
   },
   "outputs": [
    {
     "name": "stdout",
     "output_type": "stream",
     "text": [
      "下面的B-2即Bb\n",
      "B-2的名 B-\n",
      "B-2的12平均律位置（一个八度内） 10\n",
      "B-2的八度位置（以大字一开头数个八度内的哪个） 2\n",
      "B-2的变调符号的值(从标准B降了一个半音) -1.0\n"
     ]
    }
   ],
   "source": [
    "#升降调符号 升调 # sharp 降调 b flat，但在music21中使用-表示降调。那尼玛就不能用+表示升调吗\n",
    "bflat=note.Note('B-2')\n",
    "print '下面的B-2即Bb'\n",
    "print 'B-2的名',bflat.pitch.name\n",
    "print 'B-2的12平均律位置（一个八度内）',bflat.pitch.pitchClass\n",
    "print 'B-2的八度位置（以大字一开头数个八度内的哪个）',bflat.pitch.octave\n",
    "print 'B-2的变调符号的值(从标准B降了一个半音)',bflat.pitch.accidental.alter"
   ]
  },
  {
   "cell_type": "code",
   "execution_count": 4,
   "metadata": {
    "collapsed": false,
    "scrolled": true
   },
   "outputs": [
    {
     "name": "stdout",
     "output_type": "stream",
     "text": [
      "D3 名 D\n",
      "D3 12平均律位置 2\n",
      "D3 八度位置 3\n"
     ]
    }
   ],
   "source": [
    "#从bflat变调到D3,通过施加一个大三度。\n",
    "d=bflat.transpose(\"M3\")\n",
    "print 'D3 名',d.pitch.name\n",
    "print 'D3 12平均律位置',d.pitch.pitchClass\n",
    "print 'D3 八度位置',d.pitch.octave"
   ]
  },
  {
   "cell_type": "markdown",
   "metadata": {},
   "source": [
    "为什么加一个大三度就从B-2变成了D3呢？因为大三度是指音程是两个全音距离，即4个半音（12平均律单位距离）距离。\n",
    "于是B- -> 2-10 -> 2-11 -> 3-0 3-1 -> 3-2 -> D3"
   ]
  },
  {
   "cell_type": "code",
   "execution_count": 5,
   "metadata": {
    "collapsed": false
   },
   "outputs": [
    {
     "data": {
      "image/png": "[encoded data removed]",
      "text/plain": [
       "<music21.ipython21.objects.IPythonPNGObject at 0x1699c320>"
      ]
     },
     "execution_count": 5,
     "metadata": {},
     "output_type": "execute_result"
    }
   ],
   "source": [
    "bflat.show()"
   ]
  },
  {
   "cell_type": "markdown",
   "metadata": {
    "collapsed": true
   },
   "source": [
    "## midi编码\n",
    "\n",
    "每个八度有十二个音，将一系列这样的十二个音排在一起加上边角可以形成钢琴的88个音，或midi的127个音。midi的中央C（C4）是60，C#/Db是61,以此类推。"
   ]
  },
  {
   "cell_type": "code",
   "execution_count": 7,
   "metadata": {
    "collapsed": false
   },
   "outputs": [
    {
     "data": {
      "text/plain": [
       "50"
      ]
     },
     "execution_count": 7,
     "metadata": {},
     "output_type": "execute_result"
    }
   ],
   "source": [
    "d.pitch.midi"
   ]
  },
  {
   "cell_type": "code",
   "execution_count": 8,
   "metadata": {
    "collapsed": false
   },
   "outputs": [
    {
     "data": {
      "text/plain": [
       "60"
      ]
     },
     "execution_count": 8,
     "metadata": {},
     "output_type": "execute_result"
    }
   ],
   "source": [
    "C4=note.Note('C4')\n",
    "C4.pitch.midi"
   ]
  },
  {
   "cell_type": "markdown",
   "metadata": {},
   "source": [
    "## 时长"
   ]
  },
  {
   "cell_type": "code",
   "execution_count": 12,
   "metadata": {
    "collapsed": false
   },
   "outputs": [
    {
     "data": {
      "image/png": "[encoded data removed]",
      "text/plain": [
       "<music21.ipython21.objects.IPythonPNGObject at 0x16d3e0b8>"
      ]
     },
     "execution_count": 12,
     "metadata": {},
     "output_type": "execute_result"
    }
   ],
   "source": [
    "from music21 import duration,stream\n",
    "\n",
    "d1=duration.Duration('whole')\n",
    "d2=duration.Duration(1.5)\n",
    "d3=duration.Duration(2.25)\n",
    "\n",
    "n1=note.Note()\n",
    "n1.duration=d1\n",
    "n2=note.Note()\n",
    "n2.duration=d2\n",
    "n3=note.Note()\n",
    "n3.duration=d3\n",
    "\n",
    "n3.addLyric(\"complex\")\n",
    "\n",
    "#n1.show()\n",
    "#n2.show()\n",
    "#n3.show()\n",
    "\n",
    "stream1=stream.Stream()\n",
    "stream1.append(n1)\n",
    "stream1.append(n2)\n",
    "stream1.append(n3)\n",
    "stream1.show()"
   ]
  },
  {
   "cell_type": "code",
   "execution_count": 16,
   "metadata": {
    "collapsed": false
   },
   "outputs": [
    {
     "data": {
      "image/png": "[encoded data removed]",
      "text/plain": [
       "<music21.ipython21.objects.IPythonPNGObject at 0x16d98da0>"
      ]
     },
     "execution_count": 16,
     "metadata": {},
     "output_type": "execute_result"
    }
   ],
   "source": [
    "s2=stream.Stream()\n",
    "\n",
    "s2.append(note.Note('C4',type='half'))\n",
    "s2.append(note.Note('D4',type=\"half\"))\n",
    "s2.append(note.Note('E4',type='whole'))\n",
    "\n",
    "s2.show()"
   ]
  },
  {
   "cell_type": "code",
   "execution_count": 18,
   "metadata": {
    "collapsed": true
   },
   "outputs": [],
   "source": [
    "#s2.show('midi')"
   ]
  },
  {
   "cell_type": "code",
   "execution_count": 23,
   "metadata": {
    "collapsed": false
   },
   "outputs": [
    {
     "data": {
      "text/plain": [
       "<music21.note.Note C>"
      ]
     },
     "execution_count": 23,
     "metadata": {},
     "output_type": "execute_result"
    }
   ],
   "source": [
    "s2[0]"
   ]
  },
  {
   "cell_type": "code",
   "execution_count": 26,
   "metadata": {
    "collapsed": false
   },
   "outputs": [
    {
     "ename": "ConverterFileException",
     "evalue": "cannot find a format extensions for: custom.ove",
     "output_type": "error",
     "traceback": [
      "\u001b[1;31m---------------------------------------------------------------------------\u001b[0m",
      "\u001b[1;31mConverterFileException\u001b[0m                    Traceback (most recent call last)",
      "\u001b[1;32m<ipython-input-26-39b7e92d00ec>\u001b[0m in \u001b[0;36m<module>\u001b[1;34m()\u001b[0m\n\u001b[0;32m      1\u001b[0m \u001b[1;32mfrom\u001b[0m \u001b[0mmusic21\u001b[0m \u001b[1;32mimport\u001b[0m \u001b[0mconverter\u001b[0m\u001b[1;33m\u001b[0m\u001b[0m\n\u001b[0;32m      2\u001b[0m \u001b[1;33m\u001b[0m\u001b[0m\n\u001b[1;32m----> 3\u001b[1;33m \u001b[0mbox\u001b[0m\u001b[1;33m=\u001b[0m\u001b[0mconverter\u001b[0m\u001b[1;33m.\u001b[0m\u001b[0mparse\u001b[0m\u001b[1;33m(\u001b[0m\u001b[1;34m'custom.ove'\u001b[0m\u001b[1;33m)\u001b[0m\u001b[1;33m\u001b[0m\u001b[0m\n\u001b[0m",
      "\u001b[1;32mC:\\Users\\yiyuezhuo\\Anaconda\\lib\\site-packages\\music21\\converter\\__init__.pyc\u001b[0m in \u001b[0;36mparse\u001b[1;34m(value, *args, **keywords)\u001b[0m\n\u001b[0;32m   1067\u001b[0m         \u001b[1;32mreturn\u001b[0m \u001b[0mparseData\u001b[0m\u001b[1;33m(\u001b[0m\u001b[0mvalue\u001b[0m\u001b[1;33m,\u001b[0m \u001b[0mnumber\u001b[0m\u001b[1;33m=\u001b[0m\u001b[0mnumber\u001b[0m\u001b[1;33m,\u001b[0m \u001b[0mformat\u001b[0m\u001b[1;33m=\u001b[0m\u001b[0mm21Format\u001b[0m\u001b[1;33m,\u001b[0m \u001b[1;33m**\u001b[0m\u001b[0mkeywords\u001b[0m\u001b[1;33m)\u001b[0m\u001b[1;33m\u001b[0m\u001b[0m\n\u001b[0;32m   1068\u001b[0m     \u001b[1;32melif\u001b[0m \u001b[0mos\u001b[0m\u001b[1;33m.\u001b[0m\u001b[0mpath\u001b[0m\u001b[1;33m.\u001b[0m\u001b[0mexists\u001b[0m\u001b[1;33m(\u001b[0m\u001b[0mvalue\u001b[0m\u001b[1;33m)\u001b[0m\u001b[1;33m:\u001b[0m\u001b[1;33m\u001b[0m\u001b[0m\n\u001b[1;32m-> 1069\u001b[1;33m         \u001b[1;32mreturn\u001b[0m \u001b[0mparseFile\u001b[0m\u001b[1;33m(\u001b[0m\u001b[0mvalue\u001b[0m\u001b[1;33m,\u001b[0m \u001b[0mnumber\u001b[0m\u001b[1;33m=\u001b[0m\u001b[0mnumber\u001b[0m\u001b[1;33m,\u001b[0m \u001b[0mformat\u001b[0m\u001b[1;33m=\u001b[0m\u001b[0mm21Format\u001b[0m\u001b[1;33m,\u001b[0m \u001b[0mforceSource\u001b[0m\u001b[1;33m=\u001b[0m\u001b[0mforceSource\u001b[0m\u001b[1;33m,\u001b[0m \u001b[1;33m**\u001b[0m\u001b[0mkeywords\u001b[0m\u001b[1;33m)\u001b[0m\u001b[1;33m\u001b[0m\u001b[0m\n\u001b[0m\u001b[0;32m   1070\u001b[0m     \u001b[1;32melif\u001b[0m \u001b[1;33m(\u001b[0m\u001b[0mvalueStr\u001b[0m\u001b[1;33m.\u001b[0m\u001b[0mstartswith\u001b[0m\u001b[1;33m(\u001b[0m\u001b[1;34m'http://'\u001b[0m\u001b[1;33m)\u001b[0m \u001b[1;32mor\u001b[0m \u001b[0mvalueStr\u001b[0m\u001b[1;33m.\u001b[0m\u001b[0mstartswith\u001b[0m\u001b[1;33m(\u001b[0m\u001b[1;34m'https://'\u001b[0m\u001b[1;33m)\u001b[0m\u001b[1;33m)\u001b[0m\u001b[1;33m:\u001b[0m\u001b[1;33m\u001b[0m\u001b[0m\n\u001b[0;32m   1071\u001b[0m         \u001b[1;31m# its a url; may need to broaden these criteria\u001b[0m\u001b[1;33m\u001b[0m\u001b[1;33m\u001b[0m\u001b[0m\n",
      "\u001b[1;32mC:\\Users\\yiyuezhuo\\Anaconda\\lib\\site-packages\\music21\\converter\\__init__.pyc\u001b[0m in \u001b[0;36mparseFile\u001b[1;34m(fp, number, format, forceSource, **keywords)\u001b[0m\n\u001b[0;32m    962\u001b[0m     '''\n\u001b[0;32m    963\u001b[0m     \u001b[0mv\u001b[0m \u001b[1;33m=\u001b[0m \u001b[0mConverter\u001b[0m\u001b[1;33m(\u001b[0m\u001b[1;33m)\u001b[0m\u001b[1;33m\u001b[0m\u001b[0m\n\u001b[1;32m--> 964\u001b[1;33m     \u001b[0mv\u001b[0m\u001b[1;33m.\u001b[0m\u001b[0mparseFile\u001b[0m\u001b[1;33m(\u001b[0m\u001b[0mfp\u001b[0m\u001b[1;33m,\u001b[0m \u001b[0mnumber\u001b[0m\u001b[1;33m=\u001b[0m\u001b[0mnumber\u001b[0m\u001b[1;33m,\u001b[0m \u001b[0mformat\u001b[0m\u001b[1;33m=\u001b[0m\u001b[0mformat\u001b[0m\u001b[1;33m,\u001b[0m \u001b[0mforceSource\u001b[0m\u001b[1;33m=\u001b[0m\u001b[0mforceSource\u001b[0m\u001b[1;33m,\u001b[0m \u001b[1;33m**\u001b[0m\u001b[0mkeywords\u001b[0m\u001b[1;33m)\u001b[0m\u001b[1;33m\u001b[0m\u001b[0m\n\u001b[0m\u001b[0;32m    965\u001b[0m     \u001b[1;32mreturn\u001b[0m \u001b[0mv\u001b[0m\u001b[1;33m.\u001b[0m\u001b[0mstream\u001b[0m\u001b[1;33m\u001b[0m\u001b[0m\n\u001b[0;32m    966\u001b[0m \u001b[1;33m\u001b[0m\u001b[0m\n",
      "\u001b[1;32mC:\\Users\\yiyuezhuo\\Anaconda\\lib\\site-packages\\music21\\converter\\__init__.pyc\u001b[0m in \u001b[0;36mparseFile\u001b[1;34m(self, fp, number, format, forceSource, storePickle, **keywords)\u001b[0m\n\u001b[0;32m    481\u001b[0m \u001b[1;33m\u001b[0m\u001b[0m\n\u001b[0;32m    482\u001b[0m         \u001b[1;32mif\u001b[0m \u001b[0museFormat\u001b[0m \u001b[1;32mis\u001b[0m \u001b[0mNone\u001b[0m\u001b[1;33m:\u001b[0m\u001b[1;33m\u001b[0m\u001b[0m\n\u001b[1;32m--> 483\u001b[1;33m             \u001b[0museFormat\u001b[0m \u001b[1;33m=\u001b[0m \u001b[0mself\u001b[0m\u001b[1;33m.\u001b[0m\u001b[0mgetFormatFromFileExtension\u001b[0m\u001b[1;33m(\u001b[0m\u001b[0mfp\u001b[0m\u001b[1;33m)\u001b[0m\u001b[1;33m\u001b[0m\u001b[0m\n\u001b[0m\u001b[0;32m    484\u001b[0m         \u001b[0mpfObj\u001b[0m \u001b[1;33m=\u001b[0m \u001b[0mPickleFilter\u001b[0m\u001b[1;33m(\u001b[0m\u001b[0mfp\u001b[0m\u001b[1;33m,\u001b[0m \u001b[0mforceSource\u001b[0m\u001b[1;33m,\u001b[0m \u001b[0mnumber\u001b[0m\u001b[1;33m)\u001b[0m\u001b[1;33m\u001b[0m\u001b[0m\n\u001b[0;32m    485\u001b[0m         \u001b[0munused_fpDst\u001b[0m\u001b[1;33m,\u001b[0m \u001b[0mwritePickle\u001b[0m\u001b[1;33m,\u001b[0m \u001b[0mfpPickle\u001b[0m \u001b[1;33m=\u001b[0m \u001b[0mpfObj\u001b[0m\u001b[1;33m.\u001b[0m\u001b[0mstatus\u001b[0m\u001b[1;33m(\u001b[0m\u001b[1;33m)\u001b[0m\u001b[1;33m\u001b[0m\u001b[0m\n",
      "\u001b[1;32mC:\\Users\\yiyuezhuo\\Anaconda\\lib\\site-packages\\music21\\converter\\__init__.pyc\u001b[0m in \u001b[0;36mgetFormatFromFileExtension\u001b[1;34m(self, fp)\u001b[0m\n\u001b[0;32m    462\u001b[0m             \u001b[0museFormat\u001b[0m \u001b[1;33m=\u001b[0m \u001b[0mcommon\u001b[0m\u001b[1;33m.\u001b[0m\u001b[0mfindFormatFile\u001b[0m\u001b[1;33m(\u001b[0m\u001b[0mfp\u001b[0m\u001b[1;33m)\u001b[0m\u001b[1;33m\u001b[0m\u001b[0m\n\u001b[0;32m    463\u001b[0m             \u001b[1;32mif\u001b[0m \u001b[0museFormat\u001b[0m \u001b[1;32mis\u001b[0m \u001b[0mNone\u001b[0m\u001b[1;33m:\u001b[0m\u001b[1;33m\u001b[0m\u001b[0m\n\u001b[1;32m--> 464\u001b[1;33m                 \u001b[1;32mraise\u001b[0m \u001b[0mConverterFileException\u001b[0m\u001b[1;33m(\u001b[0m\u001b[1;34m'cannot find a format extensions for: %s'\u001b[0m \u001b[1;33m%\u001b[0m \u001b[0mfp\u001b[0m\u001b[1;33m)\u001b[0m\u001b[1;33m\u001b[0m\u001b[0m\n\u001b[0m\u001b[0;32m    465\u001b[0m         \u001b[1;32mreturn\u001b[0m \u001b[0museFormat\u001b[0m\u001b[1;33m\u001b[0m\u001b[0m\n\u001b[0;32m    466\u001b[0m \u001b[1;33m\u001b[0m\u001b[0m\n",
      "\u001b[1;31mConverterFileException\u001b[0m: cannot find a format extensions for: custom.ove"
     ]
    }
   ],
   "source": [
    "from music21 import converter\n",
    "\n",
    "box=converter.parse('custom.ove')"
   ]
  },
  {
   "cell_type": "code",
   "execution_count": null,
   "metadata": {
    "collapsed": true
   },
   "outputs": [],
   "source": []
  }
 ],
 "metadata": {
  "kernelspec": {
   "display_name": "Python 2",
   "language": "python",
   "name": "python2"
  },
  "language_info": {
   "codemirror_mode": {
    "name": "ipython",
    "version": 2
   },
   "file_extension": ".py",
   "mimetype": "text/x-python",
   "name": "python",
   "nbconvert_exporter": "python",
   "pygments_lexer": "ipython2",
   "version": "2.7.11"
  }
 },
 "nbformat": 4,
 "nbformat_minor": 0
}
